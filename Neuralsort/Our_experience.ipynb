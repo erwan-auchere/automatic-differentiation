{
 "cells": [
  {
   "cell_type": "markdown",
   "id": "de707ea0-728e-4311-97e0-b83f4b4e4ff2",
   "metadata": {},
   "source": [
    "#### STOCHASTIC OPTIMIZATION OF SORTING NETWORKS VIA CONTINUOUS RELAXATIONS"
   ]
  },
  {
   "cell_type": "markdown",
   "id": "55bd132e-d933-4755-9fb6-34a000f13084",
   "metadata": {},
   "source": [
    "This paper deals with an object sorting problem, generally well known in many machine learning pipelines. For instance, the to k-multi-class classification, ranking documents for information retrieval and multi-object target tracking in computer vision.To solve these problems, algorithms are used that typically require the learning of informative representations of complex high-dimensional data, such as images, prior to sorting and subsequent downstream processing. \n",
    "\n",
    "However, for a downstream sorting problem, it is not possible to optimize it from end to end because the sorting operator is not differentiable with respect to its input. The goal of this paper is to propose a method that makes the sort operator differentiable almost everywhere with respect to the inputs. This proposed method is $\\textbf{NeuralSort}$. This report concerns scientic aspects of NeuralSort. It is organized as follows: \n",
    "\n",
    "- $\\textbf{Presents a well-understood summay of NeuralSort method}$;\n",
    "- $\\textbf{Give an application of this method on data}$"
   ]
  },
  {
   "cell_type": "markdown",
   "id": "ce0fc76a-c81d-4b0b-80b0-88b6f02bd3d2",
   "metadata": {},
   "source": [
    "#### 𝐍𝐞𝐮𝐫𝐚𝐥𝐒𝐨𝐫𝐭 𝐦𝐞𝐭𝐡𝐨𝐝"
   ]
  },
  {
   "cell_type": "markdown",
   "id": "b68e0a30-c2fe-487d-895b-2ef7dcc988bd",
   "metadata": {},
   "source": [
    "$\\textbf{How understand it}$: in the sorting problem, the output can be viewed as a permutation matrix, which is a square matrix with entries in $\\{0,1\\}$ such that every row and every column sums to 1. For NeuralSort, we consider other matrix called  unimodal row-stochastic matrix. It is a square matrix with positive real entries, where each row sums to 1 and has a distinct arg max. All permutation matrices are unimodal row-stochastic matrices. \n",
    "\n",
    "\n",
    "$\\textbf{How NeuralSort is it trained ?}$: the goal is to optimize training objectives involving a sort operator with gradient-based methods.\n",
    "\n",
    "The problem can be written in the following form:\n",
    "\n",
    "$\\mathcal{L}(\\theta,s)= f(P_z,\\theta)$ and $ z = sort(s)$\n",
    "\n",
    "Here, \n",
    "\n",
    "- $s\\in \\mathbb{R}^n$ denotes a vector of n real-valued scores that follows a  Plackett-Luce distribution with \n",
    "probability mass function for any $z \\in \\mathcal{Z}_n $ is given by:\n",
    "$q(z|s)=\\dfrac{s_{z_1}}{Z} \\dfrac{s_{z_2}}{Z-s_{z_2}}\\cdots \\dfrac{s_{z_n}}{Z-\\sum_{i=1}^{n-1}s_{z_i}}$, $Z$ is the normalization constant is given by $Z=\\sum_{i=1}^{n}s_i$.\n",
    "\n",
    "- z is the permutation that (deterministically) sorts the scores s, Every\n",
    "permutation  z is associated with a permutation  matrix $P_z \\in \\{0,1\\}^{n*n}$ with $P_z[i,i]=\\mathbb{1}(j=z_i)$.\n",
    "$\\textbf{Example}$, let $s = [9; 10; 5; 2]^T$ , then $sort(s) = [2; 1; 3; 4]^T$ since the largest element is at the second index, second largest element is at the first index and so on. In case of ties, elements are assigned indices in the order they appear. We can obtain the sorted vector simply via $P_{sort(s)}s$.\n",
    "\n",
    "- $f(·)$ is an arbitrary function of interest assumed to be differentiable w.r.t a set\n",
    "of parameters $\\theta$ and z. \n",
    "\n",
    "Since, the sort operation is not, the proposed solution of the authors to derive a relaxation to the sort operator that leads to a surrogate objective with well-defined gradients. In particular, we seek to use such a relaxation to replace the permutation matrix $P_z$ in the objective function above with an approximation $\\hat{P}_z$ such that the surrogate\n",
    "objective $f(\\hat{P}_z; \\theta)$ is differentiable w.r.t. the scores s.\n",
    "\n"
   ]
  },
  {
   "cell_type": "code",
   "execution_count": null,
   "id": "cabda6fc-10ff-4eb5-82fd-74d471026654",
   "metadata": {},
   "outputs": [],
   "source": []
  },
  {
   "cell_type": "markdown",
   "id": "635ccd24-8c3c-4240-ad60-510d1280a0b6",
   "metadata": {
    "tags": []
   },
   "source": [
    "#### Our implementation"
   ]
  },
  {
   "cell_type": "code",
   "execution_count": 20,
   "id": "ec58bf13-d552-4517-99dc-c7e433b014ea",
   "metadata": {
    "tags": []
   },
   "outputs": [
    {
     "name": "stdout",
     "output_type": "stream",
     "text": [
      "Files already downloaded and verified\n",
      "Namespace(k=9, tau=64.0, nloglr=3.0, method='deterministic', resume=False, dataset='cifar10')\n",
      "Beginning epoch 0:  baseline-resnet-cifar10-deterministic-k9-t640-b3\n",
      "train -1.3696844577789307\n",
      "val 0.47660000690817833\n",
      "Saving...\n",
      "Beginning epoch 1:  baseline-resnet-cifar10-deterministic-k9-t640-b3\n",
      "train -1.1611714363098145\n",
      "val 0.5814000078439713\n",
      "Saving...\n",
      "Beginning epoch 2:  baseline-resnet-cifar10-deterministic-k9-t640-b3\n",
      "train -1.0585336685180664\n",
      "val 0.608400007724762\n",
      "Saving...\n",
      "Beginning epoch 3:  baseline-resnet-cifar10-deterministic-k9-t640-b3\n",
      "train -1.1423571109771729\n",
      "val 0.7014000089168548\n",
      "Saving...\n",
      "Beginning epoch 4:  baseline-resnet-cifar10-deterministic-k9-t640-b3\n",
      "train -0.7420566082000732\n",
      "val 0.7208000096082687\n",
      "Saving...\n",
      "Beginning epoch 5:  baseline-resnet-cifar10-deterministic-k9-t640-b3\n",
      "train -0.5786139965057373\n",
      "val 0.7256000094413757\n",
      "Saving...\n",
      "Beginning epoch 6:  baseline-resnet-cifar10-deterministic-k9-t640-b3\n",
      "train -0.7228672504425049\n",
      "val 0.7750000129938126\n",
      "Saving...\n",
      "Beginning epoch 7:  baseline-resnet-cifar10-deterministic-k9-t640-b3\n",
      "train -0.48309966921806335\n",
      "val 0.7808000114560127\n",
      "Saving...\n",
      "Beginning epoch 8:  baseline-resnet-cifar10-deterministic-k9-t640-b3\n",
      "train -0.6222994923591614\n",
      "val 0.802200013011694\n",
      "Saving...\n",
      "Beginning epoch 9:  baseline-resnet-cifar10-deterministic-k9-t640-b3\n",
      "train -0.4651772677898407\n",
      "val 0.819800014436245\n",
      "Saving...\n",
      "Beginning epoch 10:  baseline-resnet-cifar10-deterministic-k9-t640-b3\n",
      "train -0.33533698320388794\n",
      "val 0.8090000122189521\n",
      "Beginning epoch 11:  baseline-resnet-cifar10-deterministic-k9-t640-b3\n",
      "train -0.2762283384799957\n",
      "val 0.8242000142931938\n",
      "Saving...\n",
      "Beginning epoch 12:  baseline-resnet-cifar10-deterministic-k9-t640-b3\n",
      "train -0.5492517352104187\n",
      "val 0.8348000140786171\n",
      "Saving...\n",
      "Beginning epoch 13:  baseline-resnet-cifar10-deterministic-k9-t640-b3\n",
      "train -0.36929234862327576\n",
      "val 0.821000013589859\n",
      "Beginning epoch 14:  baseline-resnet-cifar10-deterministic-k9-t640-b3\n",
      "train -0.36863595247268677\n",
      "val 0.8340000133514405\n",
      "Beginning epoch 15:  baseline-resnet-cifar10-deterministic-k9-t640-b3\n",
      "train -0.27174702286720276\n",
      "val 0.8414000143408775\n",
      "Saving...\n",
      "Beginning epoch 16:  baseline-resnet-cifar10-deterministic-k9-t640-b3\n",
      "train -0.2377062737941742\n",
      "val 0.8544000153541564\n",
      "Saving...\n",
      "Beginning epoch 17:  baseline-resnet-cifar10-deterministic-k9-t640-b3\n",
      "train -0.24405212700366974\n",
      "val 0.8426000148653984\n",
      "Beginning epoch 18:  baseline-resnet-cifar10-deterministic-k9-t640-b3\n",
      "train -0.17652219533920288\n",
      "val 0.8532000150680542\n",
      "Beginning epoch 19:  baseline-resnet-cifar10-deterministic-k9-t640-b3\n",
      "train -0.35404741764068604\n",
      "val 0.8498000153303147\n",
      "Beginning epoch 20:  baseline-resnet-cifar10-deterministic-k9-t640-b3\n",
      "train -0.2478904277086258\n",
      "val 0.8454000152945519\n",
      "Beginning epoch 21:  baseline-resnet-cifar10-deterministic-k9-t640-b3\n",
      "train -0.373795747756958\n",
      "val 0.8522000153064728\n",
      "Beginning epoch 22:  baseline-resnet-cifar10-deterministic-k9-t640-b3\n",
      "train -0.15949144959449768\n",
      "val 0.8668000154495239\n",
      "Saving...\n",
      "Beginning epoch 23:  baseline-resnet-cifar10-deterministic-k9-t640-b3\n",
      "train -0.14855018258094788\n",
      "val 0.8666000151634217\n",
      "Beginning epoch 24:  baseline-resnet-cifar10-deterministic-k9-t640-b3\n",
      "train -0.18766599893569946\n",
      "val 0.8448000141382217\n",
      "Beginning epoch 25:  baseline-resnet-cifar10-deterministic-k9-t640-b3\n",
      "^C\n"
     ]
    }
   ],
   "source": [
    "# run the classical KNN with cifar 10\n",
    "!python run_baseline.py --k=9 --tau=64 --nloglr=3 --method=deterministic --dataset=cifar10\n"
   ]
  },
  {
   "cell_type": "code",
   "execution_count": null,
   "id": "94fc5d90-5bfe-4d2e-ad27-f9b954437f27",
   "metadata": {
    "tags": []
   },
   "outputs": [
    {
     "name": "stdout",
     "output_type": "stream",
     "text": [
      "Files already downloaded and verified\n",
      "Namespace(k=9, tau=64.0, nloglr=3.0, method='deterministic', resume=False, dataset='cifar100')\n",
      "Beginning epoch 0:  baseline-resnet-cifar100-deterministic-k9-t640-b3\n",
      "^C\n",
      "Traceback (most recent call last):\n",
      "  File \"/home/onyxia/work/automatic-differentiation/Neuralsort/run_baseline.py\", line 138, in <module>\n",
      "    train(t)\n",
      "  File \"/home/onyxia/work/automatic-differentiation/Neuralsort/run_baseline.py\", line 86, in train\n",
      "    x = x.to(device=gpu)\n",
      "KeyboardInterrupt\n"
     ]
    }
   ],
   "source": [
    "# run the classical KNN with cifar 100\n",
    "!python run_baseline.py --k=9 --tau=64 --nloglr=3 --method=deterministic --dataset=cifar100"
   ]
  },
  {
   "cell_type": "code",
   "execution_count": null,
   "id": "531b5714-745b-490c-a5f7-02473dfe7da6",
   "metadata": {
    "tags": []
   },
   "outputs": [
    {
     "name": "stdout",
     "output_type": "stream",
     "text": [
      "Files already downloaded and verified\n",
      "Namespace(k=9, tau=64.0, nloglr=3.0, method='deterministic', resume=False, dataset='cifar10', num_train_queries=100, num_test_queries=10, num_train_neighbors=100, num_samples=5, num_epochs=200)\n",
      "Beginning epoch 0:  dknn-resnet-cifar10-deterministic-k9-t6400-b3\n",
      "^C\n"
     ]
    }
   ],
   "source": [
    "# run the classical KNN with cifar 10\n",
    "!python run_dknn.py --k=9 --tau=64 --nloglr=3 --method=deterministic --dataset=cifar10\n"
   ]
  },
  {
   "cell_type": "code",
   "execution_count": null,
   "id": "ad8d39d5-ed1e-426f-bf1f-7e1158112b58",
   "metadata": {
    "tags": []
   },
   "outputs": [
    {
     "name": "stdout",
     "output_type": "stream",
     "text": [
      "Files already downloaded and verified\n",
      "Namespace(k=9, tau=64.0, nloglr=3.0, method='deterministic', resume=False, dataset='cifar100', num_train_queries=100, num_test_queries=10, num_train_neighbors=100, num_samples=5, num_epochs=200)\n",
      "Traceback (most recent call last):\n",
      "  File \"/home/onyxia/work/automatic-differentiation/Neuralsort/run_dknn.py\", line 95, in <module>\n",
      "    h_phi=preactresnet18().to(gpu)\n",
      "NameError: name 'preactresnet18' is not defined. Did you mean: 'PreActResNet18'?\n"
     ]
    }
   ],
   "source": [
    "# run the classical KNN with cifar 100\n",
    "!python run_dknn.py --k=9 --tau=64 --nloglr=3 --method=deterministic --dataset=cifar100"
   ]
  },
  {
   "cell_type": "code",
   "execution_count": null,
   "id": "e11daea2-b9aa-45ef-b4a5-4344a2050aab",
   "metadata": {},
   "outputs": [],
   "source": []
  }
 ],
 "metadata": {
  "kernelspec": {
   "display_name": "Python 3 (ipykernel)",
   "language": "python",
   "name": "python3"
  },
  "language_info": {
   "codemirror_mode": {
    "name": "ipython",
    "version": 3
   },
   "file_extension": ".py",
   "mimetype": "text/x-python",
   "name": "python",
   "nbconvert_exporter": "python",
   "pygments_lexer": "ipython3",
   "version": "3.10.9"
  }
 },
 "nbformat": 4,
 "nbformat_minor": 5
}
