{
 "cells": [
  {
   "cell_type": "markdown",
   "id": "de707ea0-728e-4311-97e0-b83f4b4e4ff2",
   "metadata": {},
   "source": [
    "#### STOCHASTIC OPTIMIZATION OF SORTING NETWORKS VIA CONTINUOUS RELAXATIONS"
   ]
  },
  {
   "cell_type": "markdown",
   "id": "55bd132e-d933-4755-9fb6-34a000f13084",
   "metadata": {},
   "source": [
    "This paper deals with an object sorting problem, generally well known in many machine learning pipelines. For instance, the to k-multi-class classification, ranking documents for information retrieval and multi-object target tracking in computer vision.To solve these problems, algorithms are used that typically require the learning of informative representations of complex high-dimensional data, such as images, prior to sorting and subsequent downstream processing. \n",
    "\n",
    "However, for a downstream sorting problem, it is not possible to optimize it from end to end because the sorting operator is not differentiable with respect to its input. The goal of this paper is to propose a method that makes the sort operator differentiable almost everywhere with respect to the inputs. This proposed method is $\\textbf{NeuralSort}$. This report concerns scientic aspects of NeuralSort. It is organized as follows: \n",
    "\n",
    "- $\\textbf{Presents a well-understood summay of NeuralSort method}$;\n",
    "- $\\textbf{Give an application of this method on data}$"
   ]
  },
  {
   "cell_type": "markdown",
   "id": "ce0fc76a-c81d-4b0b-80b0-88b6f02bd3d2",
   "metadata": {},
   "source": [
    "#### 𝐍𝐞𝐮𝐫𝐚𝐥𝐒𝐨𝐫𝐭 𝐦𝐞𝐭𝐡𝐨𝐝"
   ]
  },
  {
   "cell_type": "markdown",
   "id": "b68e0a30-c2fe-487d-895b-2ef7dcc988bd",
   "metadata": {},
   "source": [
    "$\\textbf{How understand it}$: in the sorting problem, the output can be viewed as a permutation matrix, which is a square matrix with entries in $\\{0,1\\}$ such that every row and every column sums to 1. For NeuralSort, we consider other matrix called  unimodal row-stochastic matrix. It is a square matrix with positive real entries, where each row sums to 1 and has a distinct arg max. All permutation matrices are unimodal row-stochastic matrices. \n",
    "\n",
    "\n",
    "$\\textbf{How NeuralSort is it trained ?}$: the goal is to optimize training objectives involving a sort operator with gradient-based methods.\n",
    "\n",
    "The problem can be written in the following form:\n",
    "\n",
    "$\\mathcal{L}(\\theta,s)= f(P_z,\\theta)$ and $ z = sort(s)$\n",
    "\n",
    "Here, \n",
    "\n",
    "- $s\\in \\mathbb{R}^n$ denotes a vector of n real-valued scores that follows a  Plackett-Luce distribution with \n",
    "probability mass function for any $z \\in \\mathcal{Z}_n $ is given by:\n",
    "$q(z|s)=\\dfrac{s_{z_1}}{Z} \\dfrac{s_{z_2}}{Z-s_{z_2}}\\cdots \\dfrac{s_{z_n}}{Z-\\sum_{i=1}^{n-1}s_{z_i}}$, $Z$ is the normalization constant is given by $Z=\\sum_{i=1}^{n}s_i$.\n",
    "\n",
    "- z is the permutation that (deterministically) sorts the scores s, Every\n",
    "permutation  z is associated with a permutation  matrix $P_z \\in \\{0,1\\}^{n*n}$ with $P_z[i,i]=\\mathbb{1}(j=z_i)$.\n",
    "$\\textbf{Example}$, let $s = [9; 10; 5; 2]^T$ , then $sort(s) = [2; 1; 3; 4]^T$ since the largest element is at the second index, second largest element is at the first index and so on. In case of ties, elements are assigned indices in the order they appear. We can obtain the sorted vector simply via $P_{sort(s)}s$.\n",
    "\n",
    "- $f(·)$ is an arbitrary function of interest assumed to be differentiable w.r.t a set\n",
    "of parameters $\\theta$ and z. \n",
    "\n",
    "Since, the sort operation is not, the proposed solution of the authors to derive a relaxation to the sort operator that leads to a surrogate objective with well-defined gradients. In particular, we seek to use such a relaxation to replace the permutation matrix $P_z$ in the objective function above with an approximation $\\hat{P}_z$ such that the surrogate\n",
    "objective $f(\\hat{P}_z; \\theta)$ is differentiable w.r.t. the scores s.\n",
    "\n"
   ]
  },
  {
   "cell_type": "code",
   "execution_count": null,
   "id": "cabda6fc-10ff-4eb5-82fd-74d471026654",
   "metadata": {},
   "outputs": [],
   "source": []
  },
  {
   "cell_type": "markdown",
   "id": "635ccd24-8c3c-4240-ad60-510d1280a0b6",
   "metadata": {
    "tags": []
   },
   "source": [
    "#### Our implementation"
   ]
  },
  {
   "cell_type": "code",
   "execution_count": 1,
   "id": "ec58bf13-d552-4517-99dc-c7e433b014ea",
   "metadata": {
    "tags": []
   },
   "outputs": [
    {
     "name": "stdout",
     "output_type": "stream",
     "text": [
      "Files already downloaded and verified\n",
      "Namespace(k=None, tau=None, nloglr=3.0, method=None, resume=False, dataset='cifar10')\n",
      "Beginning epoch 0:  baseline-resnet-cifar10-b3\n",
      "train -1.3586491346359253\n",
      "val 0.4756000072360039\n",
      "Saving...\n",
      "Beginning epoch 1:  baseline-resnet-cifar10-b3\n",
      "train -1.1541134119033813\n",
      "val 0.580800007790327\n",
      "Saving...\n",
      "Beginning epoch 2:  baseline-resnet-cifar10-b3\n",
      "train -1.062227725982666\n",
      "val 0.6130000080764294\n",
      "Saving...\n",
      "Beginning epoch 3:  baseline-resnet-cifar10-b3\n",
      "train -1.1764580011367798\n",
      "val 0.6964000077843666\n",
      "Saving...\n",
      "Beginning epoch 4:  baseline-resnet-cifar10-b3\n",
      "train -0.7665287256240845\n",
      "val 0.7158000093102456\n",
      "Saving...\n",
      "val 0.7196000101566314\n",
      "Saving...\n",
      "test 0.715400009021163\n"
     ]
    }
   ],
   "source": [
    "# run the classical KNN with cifar 10\n",
    "!python run_baseline.py --dataset=cifar10 --nloglr=3\n"
   ]
  },
  {
   "cell_type": "code",
   "execution_count": 2,
   "id": "94fc5d90-5bfe-4d2e-ad27-f9b954437f27",
   "metadata": {
    "tags": []
   },
   "outputs": [
    {
     "name": "stdout",
     "output_type": "stream",
     "text": [
      "Downloading https://www.cs.toronto.edu/~kriz/cifar-100-python.tar.gz to ./data-cifar100/cifar-100-python.tar.gz\n",
      "100%|███████████████████████| 169001437/169001437 [00:12<00:00, 13303760.11it/s]\n",
      "Extracting ./data-cifar100/cifar-100-python.tar.gz to ./data-cifar100\n",
      "Namespace(k=None, tau=None, nloglr=3.0, method=None, resume=False, dataset='cifar100')\n",
      "Beginning epoch 0:  baseline-resnet-cifar100-b3\n",
      "train -3.9608898162841797\n",
      "val 0.0788000014424324\n",
      "Saving...\n",
      "Beginning epoch 1:  baseline-resnet-cifar100-b3\n",
      "train -3.9900012016296387\n",
      "val 0.10580000206828118\n",
      "Saving...\n",
      "Beginning epoch 2:  baseline-resnet-cifar100-b3\n",
      "train -3.693988561630249\n",
      "val 0.1402000028192997\n",
      "Saving...\n",
      "Beginning epoch 3:  baseline-resnet-cifar100-b3\n",
      "train -3.4684696197509766\n",
      "val 0.15720000334084033\n",
      "Saving...\n",
      "Beginning epoch 4:  baseline-resnet-cifar100-b3\n",
      "train -3.2840921878814697\n",
      "val 0.1772000036686659\n",
      "Saving...\n",
      "Beginning epoch 5:  baseline-resnet-cifar100-b3\n",
      "train -3.1169965267181396\n",
      "val 0.20160000437498093\n",
      "Saving...\n",
      "Beginning epoch 6:  baseline-resnet-cifar100-b3\n",
      "train -3.1988229751586914\n",
      "val 0.24180000518262387\n",
      "Saving...\n",
      "Beginning epoch 7:  baseline-resnet-cifar100-b3\n",
      "train -2.995272636413574\n",
      "val 0.26840000584721563\n",
      "Saving...\n",
      "Beginning epoch 8:  baseline-resnet-cifar100-b3\n",
      "train -2.827219247817993\n",
      "val 0.31420000627636907\n",
      "Saving...\n",
      "Beginning epoch 9:  baseline-resnet-cifar100-b3\n",
      "train -2.5525524616241455\n",
      "val 0.3264000060409307\n",
      "Saving...\n",
      "Beginning epoch 10:  baseline-resnet-cifar100-b3\n",
      "train -2.689990520477295\n",
      "val 0.32820000636577606\n",
      "Saving...\n",
      "Beginning epoch 11:  baseline-resnet-cifar100-b3\n",
      "train -2.2504091262817383\n",
      "val 0.3506000067591667\n",
      "Saving...\n",
      "Beginning epoch 12:  baseline-resnet-cifar100-b3\n",
      "train -2.288271903991699\n",
      "val 0.3926000065356493\n",
      "Saving...\n",
      "Beginning epoch 13:  baseline-resnet-cifar100-b3\n",
      "train -2.2238588333129883\n",
      "val 0.4018000069111586\n",
      "Saving...\n",
      "Beginning epoch 14:  baseline-resnet-cifar100-b3\n",
      "train -2.167433261871338\n",
      "val 0.41740000671148303\n",
      "Saving...\n",
      "Beginning epoch 15:  baseline-resnet-cifar100-b3\n",
      "train -1.7794098854064941\n",
      "val 0.4240000066906214\n",
      "Saving...\n",
      "Beginning epoch 16:  baseline-resnet-cifar100-b3\n",
      "train -1.9379680156707764\n",
      "val 0.4514000059515238\n",
      "Saving...\n",
      "Beginning epoch 17:  baseline-resnet-cifar100-b3\n",
      "train -1.8575081825256348\n",
      "val 0.45580000749230387\n",
      "Saving...\n",
      "Beginning epoch 18:  baseline-resnet-cifar100-b3\n",
      "train -1.9747391939163208\n",
      "val 0.46100000643730166\n",
      "Saving...\n",
      "Beginning epoch 19:  baseline-resnet-cifar100-b3\n",
      "train -1.7341328859329224\n",
      "val 0.47640000681579114\n",
      "Saving...\n",
      "Beginning epoch 20:  baseline-resnet-cifar100-b3\n",
      "train -1.355039358139038\n",
      "val 0.4876000070273876\n",
      "Saving...\n",
      "Beginning epoch 21:  baseline-resnet-cifar100-b3\n",
      "train -1.5847489833831787\n",
      "val 0.5018000067919492\n",
      "Saving...\n",
      "Beginning epoch 22:  baseline-resnet-cifar100-b3\n",
      "train -1.2856042385101318\n",
      "val 0.523800008431077\n",
      "Saving...\n",
      "Beginning epoch 23:  baseline-resnet-cifar100-b3\n",
      "train -1.2717032432556152\n",
      "val 0.5138000060617923\n",
      "Beginning epoch 24:  baseline-resnet-cifar100-b3\n",
      "train -1.5970039367675781\n",
      "val 0.527000006660819\n",
      "Saving...\n",
      "Beginning epoch 25:  baseline-resnet-cifar100-b3\n",
      "train -1.17722487449646\n",
      "val 0.5330000069588423\n",
      "Saving...\n",
      "Beginning epoch 26:  baseline-resnet-cifar100-b3\n",
      "train -1.2772973775863647\n",
      "val 0.543200007095933\n",
      "Saving...\n",
      "Beginning epoch 27:  baseline-resnet-cifar100-b3\n",
      "train -1.144832730293274\n",
      "val 0.5514000067412853\n",
      "Saving...\n",
      "Beginning epoch 28:  baseline-resnet-cifar100-b3\n",
      "train -0.9151976704597473\n",
      "val 0.5556000064611435\n",
      "Saving...\n",
      "Beginning epoch 29:  baseline-resnet-cifar100-b3\n",
      "train -1.1677294969558716\n",
      "val 0.5768000080436468\n",
      "Saving...\n",
      "Beginning epoch 30:  baseline-resnet-cifar100-b3\n",
      "train -1.1264896392822266\n",
      "val 0.5610000072717667\n",
      "Beginning epoch 31:  baseline-resnet-cifar100-b3\n",
      "train -1.0898385047912598\n",
      "val 0.5686000073254108\n",
      "Beginning epoch 32:  baseline-resnet-cifar100-b3\n",
      "train -1.3439011573791504\n",
      "val 0.5834000073820352\n",
      "Saving...\n",
      "Beginning epoch 33:  baseline-resnet-cifar100-b3\n",
      "train -0.9374162554740906\n",
      "val 0.559400006994605\n",
      "Beginning epoch 34:  baseline-resnet-cifar100-b3\n",
      "train -1.1230406761169434\n",
      "val 0.56960000808537\n",
      "Beginning epoch 35:  baseline-resnet-cifar100-b3\n",
      "train -0.8930400609970093\n",
      "val 0.5986000081896782\n",
      "Saving...\n",
      "Beginning epoch 36:  baseline-resnet-cifar100-b3\n",
      "train -1.019665002822876\n",
      "val 0.5874000076949596\n",
      "Beginning epoch 37:  baseline-resnet-cifar100-b3\n",
      "train -0.9473539590835571\n",
      "val 0.5952000080347061\n",
      "Beginning epoch 38:  baseline-resnet-cifar100-b3\n",
      "train -0.8364051580429077\n",
      "val 0.5858000078648329\n",
      "Beginning epoch 39:  baseline-resnet-cifar100-b3\n",
      "train -1.0543992519378662\n",
      "val 0.5974000087976455\n",
      "Beginning epoch 40:  baseline-resnet-cifar100-b3\n",
      "train -0.8163045644760132\n",
      "val 0.6020000069588423\n",
      "Saving...\n",
      "Beginning epoch 41:  baseline-resnet-cifar100-b3\n",
      "train -1.0028132200241089\n",
      "val 0.6022000070959329\n",
      "Saving...\n",
      "Beginning epoch 42:  baseline-resnet-cifar100-b3\n",
      "train -0.7364413738250732\n",
      "val 0.6082000079751014\n",
      "Saving...\n",
      "Beginning epoch 43:  baseline-resnet-cifar100-b3\n",
      "train -0.787680447101593\n",
      "val 0.5862000078260898\n",
      "Beginning epoch 44:  baseline-resnet-cifar100-b3\n",
      "train -0.8825108408927917\n",
      "val 0.5940000077039004\n",
      "Beginning epoch 45:  baseline-resnet-cifar100-b3\n",
      "train -0.8595899939537048\n",
      "val 0.5894000074267387\n",
      "Beginning epoch 46:  baseline-resnet-cifar100-b3\n",
      "train -0.6169615387916565\n",
      "val 0.6182000069022179\n",
      "Saving...\n",
      "Beginning epoch 47:  baseline-resnet-cifar100-b3\n",
      "train -0.610420823097229\n",
      "val 0.6130000083893538\n",
      "Beginning epoch 48:  baseline-resnet-cifar100-b3\n",
      "train -0.6397320032119751\n",
      "val 0.603800007969141\n",
      "Beginning epoch 49:  baseline-resnet-cifar100-b3\n",
      "train -0.396453857421875\n",
      "val 0.6062000067532063\n",
      "val 0.617600007981062\n",
      "test 0.6209000071436167\n"
     ]
    }
   ],
   "source": [
    "# run the classical KNN with cifar 10\n",
    "!python run_baseline.py --dataset=cifar100 --nloglr=3"
   ]
  },
  {
   "cell_type": "code",
   "execution_count": 3,
   "id": "63201560-cc8d-42aa-8261-ce70267ce11f",
   "metadata": {
    "tags": []
   },
   "outputs": [],
   "source": [
    "# run the classical KNN with cifar 10\n",
    "#!python run_baseline.py --dataset=SVHN --nloglr=3"
   ]
  },
  {
   "cell_type": "code",
   "execution_count": 4,
   "id": "531b5714-745b-490c-a5f7-02473dfe7da6",
   "metadata": {
    "tags": []
   },
   "outputs": [
    {
     "name": "stdout",
     "output_type": "stream",
     "text": [
      "Files already downloaded and verified\n",
      "Namespace(k=9, tau=64.0, nloglr=3.0, method='deterministic', resume=False, dataset='cifar10', num_train_queries=100, num_test_queries=10, num_train_neighbors=100, num_samples=5, num_epochs=5)\n",
      "Beginning epoch 0:  dknn-resnet-cifar10-deterministic-k9-t6400-b3\n",
      "Avg. train correctness of top k: 0.21439238233330807\n",
      "Avg. val acc: 0.442\n",
      "Saving...\n",
      "Beginning epoch 1:  dknn-resnet-cifar10-deterministic-k9-t6400-b3\n",
      "Avg. train correctness of top k: 0.29378301158363423\n",
      "Avg. val acc: 0.5344\n",
      "Saving...\n",
      "Beginning epoch 2:  dknn-resnet-cifar10-deterministic-k9-t6400-b3\n",
      "Avg. train correctness of top k: 0.3595568679880211\n",
      "Avg. val acc: 0.5774\n",
      "Saving...\n",
      "Beginning epoch 3:  dknn-resnet-cifar10-deterministic-k9-t6400-b3\n",
      "Avg. train correctness of top k: 0.42389760829784273\n",
      "Avg. val acc: 0.6284\n",
      "Saving...\n",
      "Beginning epoch 4:  dknn-resnet-cifar10-deterministic-k9-t6400-b3\n",
      "Avg. train correctness of top k: 0.4662869842552847\n",
      "Avg. val acc: 0.6112\n",
      "Avg. val acc: 0.6346\n",
      "Saving...\n",
      "Avg. test acc: 0.6378\n"
     ]
    }
   ],
   "source": [
    "# run the classical KNN with cifar 100\n",
    "!python run_dknn.py --k=9 --tau=64 --nloglr=3 --method=deterministic --dataset=cifar10 --num_epochs=50\n"
   ]
  },
  {
   "cell_type": "code",
   "execution_count": null,
   "id": "ad8d39d5-ed1e-426f-bf1f-7e1158112b58",
   "metadata": {
    "tags": []
   },
   "outputs": [
    {
     "name": "stdout",
     "output_type": "stream",
     "text": [
      "Files already downloaded and verified\n",
      "Namespace(k=9, tau=64.0, nloglr=3.0, method='deterministic', resume=False, dataset='cifar100', num_train_queries=100, num_test_queries=10, num_train_neighbors=100, num_samples=5, num_epochs=5)\n",
      "Beginning epoch 0:  dknn-resnet-cifar100-deterministic-k9-t6400-b3\n",
      "Avg. train correctness of top k: 0.018179239586547574\n",
      "Avg. val acc: 0.0808\n",
      "Saving...\n",
      "Beginning epoch 1:  dknn-resnet-cifar100-deterministic-k9-t6400-b3\n",
      "Avg. train correctness of top k: 0.02183918493029511\n",
      "Avg. val acc: 0.0822\n",
      "Saving...\n",
      "Beginning epoch 2:  dknn-resnet-cifar100-deterministic-k9-t6400-b3\n",
      "Avg. train correctness of top k: 0.02399887028667662\n"
     ]
    }
   ],
   "source": [
    "# run the classical KNN with cifar 100\n",
    "!python run_dknn.py --k=9 --tau=64 --nloglr=3 --method=deterministic --dataset=cifar100 --num_epochs=50"
   ]
  },
  {
   "cell_type": "code",
   "execution_count": null,
   "id": "e11daea2-b9aa-45ef-b4a5-4344a2050aab",
   "metadata": {},
   "outputs": [],
   "source": []
  }
 ],
 "metadata": {
  "kernelspec": {
   "display_name": "Python 3 (ipykernel)",
   "language": "python",
   "name": "python3"
  },
  "language_info": {
   "codemirror_mode": {
    "name": "ipython",
    "version": 3
   },
   "file_extension": ".py",
   "mimetype": "text/x-python",
   "name": "python",
   "nbconvert_exporter": "python",
   "pygments_lexer": "ipython3",
   "version": "3.10.9"
  }
 },
 "nbformat": 4,
 "nbformat_minor": 5
}
