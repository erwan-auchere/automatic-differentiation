{
 "cells": [
  {
   "cell_type": "markdown",
   "id": "de707ea0-728e-4311-97e0-b83f4b4e4ff2",
   "metadata": {},
   "source": [
    "#### STOCHASTIC OPTIMIZATION OF SORTING NETWORKS VIA CONTINUOUS RELAXATIONS"
   ]
  },
  {
   "cell_type": "markdown",
   "id": "55bd132e-d933-4755-9fb6-34a000f13084",
   "metadata": {},
   "source": [
    "This paper deals with an object sorting problem, generally well known in many machine learning pipelines. For instance, the to k-multi-class classification, ranking documents for information retrieval and multi-object target tracking in computer vision.To solve these problems, algorithms are used that typically require the learning of informative representations of complex high-dimensional data, such as images, prior to sorting and subsequent downstream processing. \n",
    "\n",
    "However, for a downstream sorting problem, it is not possible to optimize it from end to end because the sorting operator is not differentiable with respect to its input. The goal of this paper is to propose a method that makes the sort operator differentiable almost everywhere with respect to the inputs. This proposed method is $\\textbf{NeuralSort}$. This report concerns scientic aspects of NeuralSort. It is organized as follows: \n",
    "\n",
    "- $\\textbf{Presents a well-understood summay of NeuralSort method}$;\n",
    "- $\\textbf{Give an application of this method on data}$"
   ]
  },
  {
   "cell_type": "markdown",
   "id": "ce0fc76a-c81d-4b0b-80b0-88b6f02bd3d2",
   "metadata": {},
   "source": [
    "#### 𝐍𝐞𝐮𝐫𝐚𝐥𝐒𝐨𝐫𝐭 𝐦𝐞𝐭𝐡𝐨𝐝"
   ]
  },
  {
   "cell_type": "markdown",
   "id": "b68e0a30-c2fe-487d-895b-2ef7dcc988bd",
   "metadata": {},
   "source": [
    "$\\textbf{How understand it}$: in the sorting problem, the output can be viewed as a permutation matrix, which is a square matrix with entries in $\\{0,1\\}$ such that every row and every column sums to 1. For NeuralSort, we consider other matrix called  unimodal row-stochastic matrix. It is a square matrix with positive real entries, where each row sums to 1 and has a distinct arg max. All permutation matrices are unimodal row-stochastic matrices. \n",
    "\n",
    "\n",
    "$\\textbf{How NeuralSort is it trained ?}$: the goal is to optimize training objectives involving a sort operator with gradient-based methods.\n",
    "\n",
    "The problem can be written in the following form:\n",
    "\n",
    "$\\mathcal{L}(\\theta,s)= f(P_z,\\theta)$ and $ z = sort(s)$\n",
    "\n",
    "Here, \n",
    "\n",
    "- $s\\in \\mathbb{R}^n$ denotes a vector of n real-valued scores that follows a  Plackett-Luce distribution with \n",
    "probability mass function for any $z \\in \\mathcal{Z}_n $ is given by:\n",
    "$q(z|s)=\\dfrac{s_{z_1}}{Z} \\dfrac{s_{z_2}}{Z-s_{z_2}}\\cdots \\dfrac{s_{z_n}}{Z-\\sum_{i=1}^{n-1}s_{z_i}}$, $Z$ is the normalization constant is given by $Z=\\sum_{i=1}^{n}s_i$.\n",
    "\n",
    "- z is the permutation that (deterministically) sorts the scores s, Every\n",
    "permutation  z is associated with a permutation  matrix $P_z \\in \\{0,1\\}^{n*n}$ with $P_z[i,i]=\\mathbb{1}(j=z_i)$.\n",
    "$\\textbf{Example}$, let $s = [9; 10; 5; 2]^T$ , then $sort(s) = [2; 1; 3; 4]^T$ since the largest element is at the second index, second largest element is at the first index and so on. In case of ties, elements are assigned indices in the order they appear. We can obtain the sorted vector simply via $P_{sort(s)}s$.\n",
    "\n",
    "- $f(·)$ is an arbitrary function of interest assumed to be differentiable w.r.t a set\n",
    "of parameters $\\theta$ and z. \n",
    "\n",
    "Since, the sort operation is not, the proposed solution of the authors to derive a relaxation to the sort operator that leads to a surrogate objective with well-defined gradients. In particular, we seek to use such a relaxation to replace the permutation matrix $P_z$ in the objective function above with an approximation $\\hat{P}_z$ such that the surrogate\n",
    "objective $f(\\hat{P}_z; \\theta)$ is differentiable w.r.t. the scores s.\n",
    "\n"
   ]
  },
  {
   "cell_type": "code",
   "execution_count": null,
   "id": "cabda6fc-10ff-4eb5-82fd-74d471026654",
   "metadata": {},
   "outputs": [],
   "source": []
  },
  {
   "cell_type": "markdown",
   "id": "635ccd24-8c3c-4240-ad60-510d1280a0b6",
   "metadata": {},
   "source": [
    "#### Our implementation"
   ]
  },
  {
   "cell_type": "markdown",
   "id": "a60391b7-a0d6-4af7-94df-989e32f2dc98",
   "metadata": {},
   "source": []
  },
  {
   "cell_type": "code",
   "execution_count": null,
   "id": "cd67c8cd-1b68-45a1-80bf-0ae57652882a",
   "metadata": {},
   "outputs": [],
   "source": []
  }
 ],
 "metadata": {
  "kernelspec": {
   "display_name": "Python 3 (ipykernel)",
   "language": "python",
   "name": "python3"
  },
  "language_info": {
   "codemirror_mode": {
    "name": "ipython",
    "version": 3
   },
   "file_extension": ".py",
   "mimetype": "text/x-python",
   "name": "python",
   "nbconvert_exporter": "python",
   "pygments_lexer": "ipython3",
   "version": "3.10.9"
  }
 },
 "nbformat": 4,
 "nbformat_minor": 5
}
