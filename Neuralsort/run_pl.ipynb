{
 "cells": [
  {
   "cell_type": "code",
   "execution_count": 1,
   "id": "76604e20-6a47-42e6-83a1-06cb5de375d1",
   "metadata": {
    "tags": []
   },
   "outputs": [],
   "source": [
    "!python pl.py"
   ]
  },
  {
   "cell_type": "code",
   "execution_count": null,
   "id": "c581a970-753f-444a-bb8a-4c13a55945d1",
   "metadata": {},
   "outputs": [],
   "source": []
  }
 ],
 "metadata": {
  "kernelspec": {
   "display_name": "Python 3 (ipykernel)",
   "language": "python",
   "name": "python3"
  },
  "language_info": {
   "codemirror_mode": {
    "name": "ipython",
    "version": 3
   },
   "file_extension": ".py",
   "mimetype": "text/x-python",
   "name": "python",
   "nbconvert_exporter": "python",
   "pygments_lexer": "ipython3",
   "version": "3.10.9"
  }
 },
 "nbformat": 4,
 "nbformat_minor": 5
}
